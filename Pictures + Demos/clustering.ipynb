{
 "metadata": {
  "language_info": {
   "codemirror_mode": {
    "name": "ipython",
    "version": 3
   },
   "file_extension": ".py",
   "mimetype": "text/x-python",
   "name": "python",
   "nbconvert_exporter": "python",
   "pygments_lexer": "ipython3",
   "version": 3
  },
  "orig_nbformat": 2,
  "kernelspec": {
   "name": "julia-1.5",
   "display_name": "Julia 1.5.3",
   "language": "julia"
  }
 },
 "nbformat": 4,
 "nbformat_minor": 2,
 "cells": [
  {
   "cell_type": "code",
   "execution_count": 1,
   "metadata": {},
   "outputs": [],
   "source": [
    "using LinearAlgebra\n",
    "using Pipe: @pipe"
   ]
  },
  {
   "cell_type": "code",
   "execution_count": 2,
   "metadata": {},
   "outputs": [
    {
     "output_type": "execute_result",
     "data": {
      "text/plain": [
       "sortedges (generic function with 1 method)"
      ]
     },
     "metadata": {},
     "execution_count": 2
    }
   ],
   "source": [
    "vertices(E) = vcat(E[:, 1], E[:, 2]) |> unique!\n",
    "function alledges(V) # this would be a one-liner if julia's \n",
    "    n = length(V) # array comprehension were better\n",
    "    V̄ = Array{Array{Float64, 1}, 2}(undef, 0,2)\n",
    "    for i in 1:n-1, j in i+1:n\n",
    "        V̄ = vcat(V̄, [[V[i]] [V[j]]])\n",
    "    end\n",
    "    return V̄\n",
    "end\n",
    "function sortedges(E; weight=norm, rev=false)\n",
    "    E = [[E[i, 1], E[i, 2]] for i in 1:size(E, 1)] # convert to array\n",
    "    E = sort!(E, by = e -> weight(e[1] - e[2]), rev=rev) # sort array\n",
    "    E = @pipe E |> hcat.(_) |> permutedims.(_) |> vcat(_...) # convert back to matrix\n",
    "    return E\n",
    "end"
   ]
  },
  {
   "cell_type": "code",
   "execution_count": 3,
   "metadata": {},
   "outputs": [
    {
     "output_type": "execute_result",
     "data": {
      "text/plain": [
       "spantree (generic function with 1 method)"
      ]
     },
     "metadata": {},
     "execution_count": 3
    }
   ],
   "source": [
    "function spantree(E; weight=norm, rev=false) # kruskal algorithm\n",
    "    E = sortedges(E; weight=weight, rev=rev)\n",
    "    V = vertices(E); n = size(V, 1)\n",
    "    W = W_new = Array{Array{Float64, 1}, 1}(undef, 0)\n",
    "    F = F_new = Array{Array{Float64, 1}, 2}(undef, 0,2)\n",
    "    k = 1\n",
    "    while size(F, 1) < n - 1\n",
    "        F_new = vcat(F, permutedims(E[k, :]))\n",
    "        W_new = vertices(F_new)\n",
    "        if size(F_new, 1) == size(W_new, 1) - 1\n",
    "            F = F_new\n",
    "            W = W_new\n",
    "            k = 1\n",
    "        else \n",
    "            k += 1\n",
    "        end\n",
    "    end\n",
    "    return F\n",
    "end"
   ]
  },
  {
   "cell_type": "code",
   "execution_count": 4,
   "metadata": {},
   "outputs": [
    {
     "output_type": "execute_result",
     "data": {
      "text/plain": [
       "cluster (generic function with 1 method)"
      ]
     },
     "metadata": {},
     "execution_count": 4
    }
   ],
   "source": [
    "function cluster(V, k) # currently just does all edges\n",
    "    T = V |> alledges |> spantree |> sortedges\n",
    "    return T[1:size(V, 1) - k, :] # choose the |V|-k shortest edges\n",
    "end"
   ]
  },
  {
   "cell_type": "code",
   "execution_count": 5,
   "metadata": {},
   "outputs": [
    {
     "output_type": "stream",
     "name": "stderr",
     "text": [
      "┌ Info: Precompiling PlotlyJS [f0f68f2c-4968-5e81-91da-67840de0976a]\n└ @ Base loading.jl:1278\n"
     ]
    },
    {
     "output_type": "display_data",
     "data": {
      "text/plain": "HTML{String}(\"<script>\\n// Immediately-invoked-function-expression to avoid global variables.\\n(function() {\\n    var warning_div = document.getElementById(\\\"webio-warning-12301424950870151994\\\");\\n    var hide = function () {\\n        var script = document.getElementById(\\\"webio-setup-16710836592400067579\\\");\\n        var parent = script && script.parentElement;\\n        var grandparent = parent && parent.parentElement;\\n        if (grandparent) {\\n            grandparent.style.display = \\\"none\\\";\\n        }\\n        warning_div.style.display = \\\"none\\\";\\n    };\\n    if (typeof Jupyter !== \\\"undefined\\\") {\\n        console.log(\\\"WebIO detected Jupyter notebook environment.\\\");\\n        // Jupyter notebook.\\n        var extensions = (\\n            Jupyter\\n            && Jupyter.notebook.config.data\\n            && Jupyter.notebook.config.data.load_extensions\\n        );\\n        if (extensions && extensions[\\\"webio-jupyter-notebook\\\"]) {\\n            // Extension already loaded.\\n            console.log(\\\"Jupyter WebIO nbextension detected; not loading ad-hoc.\\\");\\n            hide();\\n            return;\\n        }\\n    } else if (window.location.pathname.includes(\\\"/lab\\\")) {\\n        // Guessing JupyterLa\\n        console.log(\\\"Jupyter Lab detected; make sure the @webio/jupyter-lab-provider labextension is installed.\\\");\\n        hide();\\n        return;\\n    }\\n})();\\n\\n</script>\\n<p\\n    id=\\\"webio-warning-12301424950870151994\\\"\\n    class=\\\"output_text output_stderr\\\"\\n    style=\\\"padding: 1em; font-weight: bold;\\\"\\n>\\n    Unable to load WebIO. Please make sure WebIO works for your Jupyter client.\\n    For troubleshooting, please see <a href=\\\"https://juliagizmos.github.io/WebIO.jl/latest/providers/ijulia/\\\">\\n    the WebIO/IJulia documentation</a>.\\n    <!-- TODO: link to installation docs. -->\\n</p>\\n\")",
      "text/html": "<script>\n// Immediately-invoked-function-expression to avoid global variables.\n(function() {\n    var warning_div = document.getElementById(\"webio-warning-12301424950870151994\");\n    var hide = function () {\n        var script = document.getElementById(\"webio-setup-16710836592400067579\");\n        var parent = script && script.parentElement;\n        var grandparent = parent && parent.parentElement;\n        if (grandparent) {\n            grandparent.style.display = \"none\";\n        }\n        warning_div.style.display = \"none\";\n    };\n    if (typeof Jupyter !== \"undefined\") {\n        console.log(\"WebIO detected Jupyter notebook environment.\");\n        // Jupyter notebook.\n        var extensions = (\n            Jupyter\n            && Jupyter.notebook.config.data\n            && Jupyter.notebook.config.data.load_extensions\n        );\n        if (extensions && extensions[\"webio-jupyter-notebook\"]) {\n            // Extension already loaded.\n            console.log(\"Jupyter WebIO nbextension detected; not loading ad-hoc.\");\n            hide();\n            return;\n        }\n    } else if (window.location.pathname.includes(\"/lab\")) {\n        // Guessing JupyterLa\n        console.log(\"Jupyter Lab detected; make sure the @webio/jupyter-lab-provider labextension is installed.\");\n        hide();\n        return;\n    }\n})();\n\n</script>\n<p\n    id=\"webio-warning-12301424950870151994\"\n    class=\"output_text output_stderr\"\n    style=\"padding: 1em; font-weight: bold;\"\n>\n    Unable to load WebIO. Please make sure WebIO works for your Jupyter client.\n    For troubleshooting, please see <a href=\"https://juliagizmos.github.io/WebIO.jl/latest/providers/ijulia/\">\n    the WebIO/IJulia documentation</a>.\n    <!-- TODO: link to installation docs. -->\n</p>\n"
     },
     "metadata": {}
    },
    {
     "output_type": "execute_result",
     "data": {
      "text/plain": [
       "Plots.PlotlyJSBackend()"
      ]
     },
     "metadata": {},
     "execution_count": 5
    }
   ],
   "source": [
    "using Plots, PlotThemes\n",
    "theme(:dark)\n",
    "plotlyjs()"
   ]
  },
  {
   "cell_type": "code",
   "execution_count": 6,
   "metadata": {},
   "outputs": [
    {
     "output_type": "execute_result",
     "data": {
      "text/plain": [
       "3-element Array{Array{Float64,1},1}:\n",
       " [0.16394280345465329, 0.1544842672623803, 0.08608916949680978, 0.4204540789605291, 0.5831999738235891, 0.2998338572366228, 0.7726858723313808, 0.4630087988800766, 0.046243542634913704, 0.24220081059731857]\n",
       " [0.8791592842020837, 0.0800492484391837, 0.6291168670120788, 0.08202728726692299, 0.487686958149385, 0.6344506158312067, 0.4994632886993695, 0.5097374730831594, 0.7026631495665954, 0.7597177734783795]\n",
       " [0.5636208904597477, 0.8772693627569552, 0.5895226835618761, 0.7834035623660809, 0.2520386195053832, 0.4138970052449622, 0.7304596889075163, 0.20745185943557876, 0.6427486237158215, 0.23796145732675256]"
      ]
     },
     "metadata": {},
     "execution_count": 6
    }
   ],
   "source": [
    "m = 3 # dimension\n",
    "V = [rand(m) for i in 1:10] # random points\n",
    "E = cluster(V, rand(2:size(V, 1))) # choose a randomly sized cluster\n",
    "V̄ = [getindex.(V, j) for j in 1:m] # separate x, y, z components for plotting"
   ]
  },
  {
   "cell_type": "code",
   "execution_count": 7,
   "metadata": {},
   "outputs": [
    {
     "output_type": "display_data",
     "data": {
      "text/html": "<!DOCTYPE html>\n<html>\n    <head>\n        <title>Plots.jl</title>\n        <meta http-equiv=\"content-type\" content=\"text/html; charset=UTF-8\">\n        \n    </head>\n    <body>\n            <div id=\"45419813-a34a-4906-a7fb-5d0f9efa72e5\" style=\"width:600px;height:400px;\"></div>\n    <script>\n        requirejs.config({\n        paths: {\n            Plotly: 'https://cdn.plot.ly/plotly-1.57.1.min'\n        }\n    });\n    require(['Plotly'], function (Plotly) {\n\n    PLOT = document.getElementById('45419813-a34a-4906-a7fb-5d0f9efa72e5');\n    Plotly.plot(PLOT, [\n    {\n        \"xaxis\": \"x\",\n        \"colorbar\": {\n            \"title\": \"\"\n        },\n        \"yaxis\": \"y\",\n        \"zaxis\": \"z\",\n        \"x\": [\n            0.16394280345465329,\n            0.1544842672623803,\n            0.08608916949680978,\n            0.4204540789605291,\n            0.5831999738235891,\n            0.2998338572366228,\n            0.7726858723313808,\n            0.4630087988800766,\n            0.046243542634913704,\n            0.24220081059731857\n        ],\n        \"showlegend\": true,\n        \"mode\": \"markers\",\n        \"name\": \"y1\",\n        \"zmin\": null,\n        \"legendgroup\": \"y1\",\n        \"z\": [\n            0.5636208904597477,\n            0.8772693627569552,\n            0.5895226835618761,\n            0.7834035623660809,\n            0.2520386195053832,\n            0.4138970052449622,\n            0.7304596889075163,\n            0.20745185943557876,\n            0.6427486237158215,\n            0.23796145732675256\n        ],\n        \"marker\": {\n            \"symbol\": \"circle\",\n            \"color\": \"rgba(254, 67, 101, 1.000)\",\n            \"line\": {\n                \"color\": \"rgba(173, 178, 183, 1.000)\",\n                \"width\": 1\n            },\n            \"size\": 8\n        },\n        \"zmax\": null,\n        \"y\": [\n            0.8791592842020837,\n            0.0800492484391837,\n            0.6291168670120788,\n            0.08202728726692299,\n            0.487686958149385,\n            0.6344506158312067,\n            0.4994632886993695,\n            0.5097374730831594,\n            0.7026631495665954,\n            0.7597177734783795\n        ],\n        \"type\": \"scatter3d\",\n        \"scene\": \"scene\"\n    },\n    {\n        \"xaxis\": \"x\",\n        \"colorbar\": {\n            \"title\": \"\"\n        },\n        \"yaxis\": \"y\",\n        \"zaxis\": \"z\",\n        \"x\": [\n            0.08608916949680978,\n            0.046243542634913704\n        ],\n        \"showlegend\": true,\n        \"mode\": \"lines\",\n        \"name\": \"y2\",\n        \"zmin\": null,\n        \"legendgroup\": \"y2\",\n        \"z\": [\n            0.5895226835618761,\n            0.6427486237158215\n        ],\n        \"zmax\": null,\n        \"line\": {\n            \"color\": \"rgba(236, 162, 92, 1.000)\",\n            \"shape\": \"linear\",\n            \"dash\": \"solid\",\n            \"width\": 1\n        },\n        \"y\": [\n            0.6291168670120788,\n            0.7026631495665954\n        ],\n        \"type\": \"scatter3d\",\n        \"scene\": \"scene\"\n    },\n    {\n        \"xaxis\": \"x\",\n        \"colorbar\": {\n            \"title\": \"\"\n        },\n        \"yaxis\": \"y\",\n        \"zaxis\": \"z\",\n        \"x\": [\n            0.5831999738235891,\n            0.4630087988800766\n        ],\n        \"showlegend\": true,\n        \"mode\": \"lines\",\n        \"name\": \"y3\",\n        \"zmin\": null,\n        \"legendgroup\": \"y3\",\n        \"z\": [\n            0.2520386195053832,\n            0.20745185943557876\n        ],\n        \"zmax\": null,\n        \"line\": {\n            \"color\": \"rgba(63, 151, 120, 1.000)\",\n            \"shape\": \"linear\",\n            \"dash\": \"solid\",\n            \"width\": 1\n        },\n        \"y\": [\n            0.487686958149385,\n            0.5097374730831594\n        ],\n        \"type\": \"scatter3d\",\n        \"scene\": \"scene\"\n    },\n    {\n        \"xaxis\": \"x\",\n        \"colorbar\": {\n            \"title\": \"\"\n        },\n        \"yaxis\": \"y\",\n        \"zaxis\": \"z\",\n        \"x\": [\n            0.2998338572366228,\n            0.24220081059731857\n        ],\n        \"showlegend\": true,\n        \"mode\": \"lines\",\n        \"name\": \"y4\",\n        \"zmin\": null,\n        \"legendgroup\": \"y4\",\n        \"z\": [\n            0.4138970052449622,\n            0.23796145732675256\n        ],\n        \"zmax\": null,\n        \"line\": {\n            \"color\": \"rgba(0, 93, 127, 1.000)\",\n            \"shape\": \"linear\",\n            \"dash\": \"solid\",\n            \"width\": 1\n        },\n        \"y\": [\n            0.6344506158312067,\n            0.7597177734783795\n        ],\n        \"type\": \"scatter3d\",\n        \"scene\": \"scene\"\n    },\n    {\n        \"xaxis\": \"x\",\n        \"colorbar\": {\n            \"title\": \"\"\n        },\n        \"yaxis\": \"y\",\n        \"zaxis\": \"z\",\n        \"x\": [\n            0.16394280345465329,\n            0.046243542634913704\n        ],\n        \"showlegend\": true,\n        \"mode\": \"lines\",\n        \"name\": \"y5\",\n        \"zmin\": null,\n        \"legendgroup\": \"y5\",\n        \"z\": [\n            0.5636208904597477,\n            0.6427486237158215\n        ],\n        \"zmax\": null,\n        \"line\": {\n            \"color\": \"rgba(0, 168, 255, 1.000)\",\n            \"shape\": \"linear\",\n            \"dash\": \"solid\",\n            \"width\": 1\n        },\n        \"y\": [\n            0.8791592842020837,\n            0.7026631495665954\n        ],\n        \"type\": \"scatter3d\",\n        \"scene\": \"scene\"\n    },\n    {\n        \"xaxis\": \"x\",\n        \"colorbar\": {\n            \"title\": \"\"\n        },\n        \"yaxis\": \"y\",\n        \"zaxis\": \"z\",\n        \"x\": [\n            0.08608916949680978,\n            0.2998338572366228\n        ],\n        \"showlegend\": true,\n        \"mode\": \"lines\",\n        \"name\": \"y6\",\n        \"zmin\": null,\n        \"legendgroup\": \"y6\",\n        \"z\": [\n            0.5895226835618761,\n            0.4138970052449622\n        ],\n        \"zmax\": null,\n        \"line\": {\n            \"color\": \"rgba(220, 61, 241, 1.000)\",\n            \"shape\": \"linear\",\n            \"dash\": \"solid\",\n            \"width\": 1\n        },\n        \"y\": [\n            0.6291168670120788,\n            0.6344506158312067\n        ],\n        \"type\": \"scatter3d\",\n        \"scene\": \"scene\"\n    },\n    {\n        \"xaxis\": \"x\",\n        \"colorbar\": {\n            \"title\": \"\"\n        },\n        \"yaxis\": \"y\",\n        \"zaxis\": \"z\",\n        \"x\": [\n            0.1544842672623803,\n            0.4204540789605291\n        ],\n        \"showlegend\": true,\n        \"mode\": \"lines\",\n        \"name\": \"y7\",\n        \"zmin\": null,\n        \"legendgroup\": \"y7\",\n        \"z\": [\n            0.8772693627569552,\n            0.7834035623660809\n        ],\n        \"zmax\": null,\n        \"line\": {\n            \"color\": \"rgba(117, 149, 0, 1.000)\",\n            \"shape\": \"linear\",\n            \"dash\": \"solid\",\n            \"width\": 1\n        },\n        \"y\": [\n            0.0800492484391837,\n            0.08202728726692299\n        ],\n        \"type\": \"scatter3d\",\n        \"scene\": \"scene\"\n    },\n    {\n        \"xaxis\": \"x\",\n        \"colorbar\": {\n            \"title\": \"\"\n        },\n        \"yaxis\": \"y\",\n        \"zaxis\": \"z\",\n        \"x\": [\n            0.2998338572366228,\n            0.4630087988800766\n        ],\n        \"showlegend\": true,\n        \"mode\": \"lines\",\n        \"name\": \"y8\",\n        \"zmin\": null,\n        \"legendgroup\": \"y8\",\n        \"z\": [\n            0.4138970052449622,\n            0.20745185943557876\n        ],\n        \"zmax\": null,\n        \"line\": {\n            \"color\": \"rgba(243, 82, 0, 1.000)\",\n            \"shape\": \"linear\",\n            \"dash\": \"solid\",\n            \"width\": 1\n        },\n        \"y\": [\n            0.6344506158312067,\n            0.5097374730831594\n        ],\n        \"type\": \"scatter3d\",\n        \"scene\": \"scene\"\n    }\n]\n, {\n    \"showlegend\": false,\n    \"paper_bgcolor\": \"rgba(54, 61, 70, 1.000)\",\n    \"annotations\": [],\n    \"height\": 400,\n    \"margin\": {\n        \"l\": 0,\n        \"b\": 20,\n        \"r\": 0,\n        \"t\": 20\n    },\n    \"plot_bgcolor\": \"rgba(48, 52, 59, 1.000)\",\n    \"scene\": {\n        \"camera\": {\n            \"eye\": {\n                \"y\": -1.9499999999999997,\n                \"z\": 1.3,\n                \"x\": 1.12583302491977\n            }\n        },\n        \"xaxis\": {\n            \"showticklabels\": true,\n            \"gridwidth\": 0.5,\n            \"tickvals\": [\n                0.1,\n                0.2,\n                0.30000000000000004,\n                0.4,\n                0.5,\n                0.6000000000000001,\n                0.7000000000000001\n            ],\n            \"visible\": true,\n            \"ticks\": \"inside\",\n            \"range\": [\n                0.02445027274401969,\n                0.7944791422222748\n            ],\n            \"tickmode\": \"array\",\n            \"linecolor\": \"rgba(173, 178, 183, 1.000)\",\n            \"showgrid\": true,\n            \"title\": \"\",\n            \"mirror\": false,\n            \"tickangle\": 0,\n            \"showline\": true,\n            \"gridcolor\": \"rgba(173, 178, 183, 0.100)\",\n            \"titlefont\": {\n                \"color\": \"rgba(255, 255, 255, 1.000)\",\n                \"family\": \"sans-serif\",\n                \"size\": 15\n            },\n            \"tickcolor\": \"rgb(173, 178, 183)\",\n            \"ticktext\": [\n                \"0.1\",\n                \"0.2\",\n                \"0.3\",\n                \"0.4\",\n                \"0.5\",\n                \"0.6\",\n                \"0.7\"\n            ],\n            \"zeroline\": false,\n            \"type\": \"-\",\n            \"tickfont\": {\n                \"color\": \"rgba(255, 255, 255, 1.000)\",\n                \"family\": \"sans-serif\",\n                \"size\": 11\n            },\n            \"zerolinecolor\": \"rgba(173, 178, 183, 1.000)\"\n        },\n        \"domain\": {\n            \"y\": [\n                0.03762029746281716,\n                0.9901574803149606\n            ],\n            \"x\": [\n                0.05100612423447069,\n                0.9934383202099737\n            ]\n        },\n        \"yaxis\": {\n            \"showticklabels\": true,\n            \"gridwidth\": 0.5,\n            \"tickvals\": [\n                0.2,\n                0.4,\n                0.6000000000000001,\n                0.8\n            ],\n            \"visible\": true,\n            \"ticks\": \"inside\",\n            \"range\": [\n                0.05607594736629671,\n                0.9031325852749706\n            ],\n            \"tickmode\": \"array\",\n            \"linecolor\": \"rgba(173, 178, 183, 1.000)\",\n            \"showgrid\": true,\n            \"title\": \"\",\n            \"mirror\": false,\n            \"tickangle\": 0,\n            \"showline\": true,\n            \"gridcolor\": \"rgba(173, 178, 183, 0.100)\",\n            \"titlefont\": {\n                \"color\": \"rgba(255, 255, 255, 1.000)\",\n                \"family\": \"sans-serif\",\n                \"size\": 15\n            },\n            \"tickcolor\": \"rgb(173, 178, 183)\",\n            \"ticktext\": [\n                \"0.2\",\n                \"0.4\",\n                \"0.6\",\n                \"0.8\"\n            ],\n            \"zeroline\": false,\n            \"type\": \"-\",\n            \"tickfont\": {\n                \"color\": \"rgba(255, 255, 255, 1.000)\",\n                \"family\": \"sans-serif\",\n                \"size\": 11\n            },\n            \"zerolinecolor\": \"rgba(173, 178, 183, 1.000)\"\n        },\n        \"zaxis\": {\n            \"showticklabels\": true,\n            \"gridwidth\": 0.5,\n            \"tickvals\": [\n                0.2,\n                0.30000000000000004,\n                0.4,\n                0.5,\n                0.6000000000000001,\n                0.7000000000000001,\n                0.8\n            ],\n            \"visible\": true,\n            \"ticks\": \"inside\",\n            \"range\": [\n                0.18735733433593746,\n                0.8973638878565965\n            ],\n            \"tickmode\": \"array\",\n            \"linecolor\": \"rgba(173, 178, 183, 1.000)\",\n            \"showgrid\": true,\n            \"title\": \"\",\n            \"mirror\": false,\n            \"tickangle\": 0,\n            \"showline\": true,\n            \"gridcolor\": \"rgba(173, 178, 183, 0.100)\",\n            \"titlefont\": {\n                \"color\": \"rgba(255, 255, 255, 1.000)\",\n                \"family\": \"sans-serif\",\n                \"size\": 15\n            },\n            \"tickcolor\": \"rgb(173, 178, 183)\",\n            \"ticktext\": [\n                \"0.2\",\n                \"0.3\",\n                \"0.4\",\n                \"0.5\",\n                \"0.6\",\n                \"0.7\",\n                \"0.8\"\n            ],\n            \"zeroline\": false,\n            \"type\": \"-\",\n            \"tickfont\": {\n                \"color\": \"rgba(255, 255, 255, 1.000)\",\n                \"family\": \"sans-serif\",\n                \"size\": 11\n            },\n            \"zerolinecolor\": \"rgba(173, 178, 183, 1.000)\"\n        }\n    },\n    \"width\": 600\n}\n);\n    });\n    </script>\n\n    </body>\n</html>\n",
      "application/vnd.plotly.v1+json": {
       "layout": {
        "showlegend": false,
        "paper_bgcolor": "rgba(54, 61, 70, 1.000)",
        "annotations": [],
        "height": 400,
        "margin": {
         "l": 0,
         "b": 20,
         "r": 0,
         "t": 20
        },
        "plot_bgcolor": "rgba(48, 52, 59, 1.000)",
        "scene": {
         "camera": {
          "eye": {
           "y": -1.9499999999999997,
           "z": 1.3,
           "x": 1.12583302491977
          }
         },
         "xaxis": {
          "showticklabels": true,
          "gridwidth": 0.5,
          "tickvals": [
           0.1,
           0.2,
           0.30000000000000004,
           0.4,
           0.5,
           0.6000000000000001,
           0.7000000000000001
          ],
          "visible": true,
          "ticks": "inside",
          "range": [
           0.02445027274401969,
           0.7944791422222748
          ],
          "tickmode": "array",
          "linecolor": "rgba(173, 178, 183, 1.000)",
          "showgrid": true,
          "title": "",
          "mirror": false,
          "tickangle": 0,
          "showline": true,
          "gridcolor": "rgba(173, 178, 183, 0.100)",
          "titlefont": {
           "color": "rgba(255, 255, 255, 1.000)",
           "family": "sans-serif",
           "size": 15
          },
          "tickcolor": "rgb(173, 178, 183)",
          "ticktext": [
           "0.1",
           "0.2",
           "0.3",
           "0.4",
           "0.5",
           "0.6",
           "0.7"
          ],
          "zeroline": false,
          "type": "-",
          "tickfont": {
           "color": "rgba(255, 255, 255, 1.000)",
           "family": "sans-serif",
           "size": 11
          },
          "zerolinecolor": "rgba(173, 178, 183, 1.000)"
         },
         "domain": {
          "y": [
           0.03762029746281716,
           0.9901574803149606
          ],
          "x": [
           0.05100612423447069,
           0.9934383202099737
          ]
         },
         "yaxis": {
          "showticklabels": true,
          "gridwidth": 0.5,
          "tickvals": [
           0.2,
           0.4,
           0.6000000000000001,
           0.8
          ],
          "visible": true,
          "ticks": "inside",
          "range": [
           0.05607594736629671,
           0.9031325852749706
          ],
          "tickmode": "array",
          "linecolor": "rgba(173, 178, 183, 1.000)",
          "showgrid": true,
          "title": "",
          "mirror": false,
          "tickangle": 0,
          "showline": true,
          "gridcolor": "rgba(173, 178, 183, 0.100)",
          "titlefont": {
           "color": "rgba(255, 255, 255, 1.000)",
           "family": "sans-serif",
           "size": 15
          },
          "tickcolor": "rgb(173, 178, 183)",
          "ticktext": [
           "0.2",
           "0.4",
           "0.6",
           "0.8"
          ],
          "zeroline": false,
          "type": "-",
          "tickfont": {
           "color": "rgba(255, 255, 255, 1.000)",
           "family": "sans-serif",
           "size": 11
          },
          "zerolinecolor": "rgba(173, 178, 183, 1.000)"
         },
         "zaxis": {
          "showticklabels": true,
          "gridwidth": 0.5,
          "tickvals": [
           0.2,
           0.30000000000000004,
           0.4,
           0.5,
           0.6000000000000001,
           0.7000000000000001,
           0.8
          ],
          "visible": true,
          "ticks": "inside",
          "range": [
           0.18735733433593746,
           0.8973638878565965
          ],
          "tickmode": "array",
          "linecolor": "rgba(173, 178, 183, 1.000)",
          "showgrid": true,
          "title": "",
          "mirror": false,
          "tickangle": 0,
          "showline": true,
          "gridcolor": "rgba(173, 178, 183, 0.100)",
          "titlefont": {
           "color": "rgba(255, 255, 255, 1.000)",
           "family": "sans-serif",
           "size": 15
          },
          "tickcolor": "rgb(173, 178, 183)",
          "ticktext": [
           "0.2",
           "0.3",
           "0.4",
           "0.5",
           "0.6",
           "0.7",
           "0.8"
          ],
          "zeroline": false,
          "type": "-",
          "tickfont": {
           "color": "rgba(255, 255, 255, 1.000)",
           "family": "sans-serif",
           "size": 11
          },
          "zerolinecolor": "rgba(173, 178, 183, 1.000)"
         }
        },
        "width": 600
       },
       "data": [
        {
         "xaxis": "x",
         "colorbar": {
          "title": ""
         },
         "yaxis": "y",
         "zaxis": "z",
         "x": [
          0.16394280345465329,
          0.1544842672623803,
          0.08608916949680978,
          0.4204540789605291,
          0.5831999738235891,
          0.2998338572366228,
          0.7726858723313808,
          0.4630087988800766,
          0.046243542634913704,
          0.24220081059731857
         ],
         "showlegend": true,
         "mode": "markers",
         "name": "y1",
         "zmin": null,
         "legendgroup": "y1",
         "z": [
          0.5636208904597477,
          0.8772693627569552,
          0.5895226835618761,
          0.7834035623660809,
          0.2520386195053832,
          0.4138970052449622,
          0.7304596889075163,
          0.20745185943557876,
          0.6427486237158215,
          0.23796145732675256
         ],
         "marker": {
          "symbol": "circle",
          "color": "rgba(254, 67, 101, 1.000)",
          "line": {
           "color": "rgba(173, 178, 183, 1.000)",
           "width": 1
          },
          "size": 8
         },
         "zmax": null,
         "y": [
          0.8791592842020837,
          0.0800492484391837,
          0.6291168670120788,
          0.08202728726692299,
          0.487686958149385,
          0.6344506158312067,
          0.4994632886993695,
          0.5097374730831594,
          0.7026631495665954,
          0.7597177734783795
         ],
         "type": "scatter3d",
         "scene": "scene"
        },
        {
         "xaxis": "x",
         "colorbar": {
          "title": ""
         },
         "yaxis": "y",
         "zaxis": "z",
         "x": [
          0.08608916949680978,
          0.046243542634913704
         ],
         "showlegend": true,
         "mode": "lines",
         "name": "y2",
         "zmin": null,
         "legendgroup": "y2",
         "z": [
          0.5895226835618761,
          0.6427486237158215
         ],
         "zmax": null,
         "line": {
          "color": "rgba(236, 162, 92, 1.000)",
          "shape": "linear",
          "dash": "solid",
          "width": 1
         },
         "y": [
          0.6291168670120788,
          0.7026631495665954
         ],
         "type": "scatter3d",
         "scene": "scene"
        },
        {
         "xaxis": "x",
         "colorbar": {
          "title": ""
         },
         "yaxis": "y",
         "zaxis": "z",
         "x": [
          0.5831999738235891,
          0.4630087988800766
         ],
         "showlegend": true,
         "mode": "lines",
         "name": "y3",
         "zmin": null,
         "legendgroup": "y3",
         "z": [
          0.2520386195053832,
          0.20745185943557876
         ],
         "zmax": null,
         "line": {
          "color": "rgba(63, 151, 120, 1.000)",
          "shape": "linear",
          "dash": "solid",
          "width": 1
         },
         "y": [
          0.487686958149385,
          0.5097374730831594
         ],
         "type": "scatter3d",
         "scene": "scene"
        },
        {
         "xaxis": "x",
         "colorbar": {
          "title": ""
         },
         "yaxis": "y",
         "zaxis": "z",
         "x": [
          0.2998338572366228,
          0.24220081059731857
         ],
         "showlegend": true,
         "mode": "lines",
         "name": "y4",
         "zmin": null,
         "legendgroup": "y4",
         "z": [
          0.4138970052449622,
          0.23796145732675256
         ],
         "zmax": null,
         "line": {
          "color": "rgba(0, 93, 127, 1.000)",
          "shape": "linear",
          "dash": "solid",
          "width": 1
         },
         "y": [
          0.6344506158312067,
          0.7597177734783795
         ],
         "type": "scatter3d",
         "scene": "scene"
        },
        {
         "xaxis": "x",
         "colorbar": {
          "title": ""
         },
         "yaxis": "y",
         "zaxis": "z",
         "x": [
          0.16394280345465329,
          0.046243542634913704
         ],
         "showlegend": true,
         "mode": "lines",
         "name": "y5",
         "zmin": null,
         "legendgroup": "y5",
         "z": [
          0.5636208904597477,
          0.6427486237158215
         ],
         "zmax": null,
         "line": {
          "color": "rgba(0, 168, 255, 1.000)",
          "shape": "linear",
          "dash": "solid",
          "width": 1
         },
         "y": [
          0.8791592842020837,
          0.7026631495665954
         ],
         "type": "scatter3d",
         "scene": "scene"
        },
        {
         "xaxis": "x",
         "colorbar": {
          "title": ""
         },
         "yaxis": "y",
         "zaxis": "z",
         "x": [
          0.08608916949680978,
          0.2998338572366228
         ],
         "showlegend": true,
         "mode": "lines",
         "name": "y6",
         "zmin": null,
         "legendgroup": "y6",
         "z": [
          0.5895226835618761,
          0.4138970052449622
         ],
         "zmax": null,
         "line": {
          "color": "rgba(220, 61, 241, 1.000)",
          "shape": "linear",
          "dash": "solid",
          "width": 1
         },
         "y": [
          0.6291168670120788,
          0.6344506158312067
         ],
         "type": "scatter3d",
         "scene": "scene"
        },
        {
         "xaxis": "x",
         "colorbar": {
          "title": ""
         },
         "yaxis": "y",
         "zaxis": "z",
         "x": [
          0.1544842672623803,
          0.4204540789605291
         ],
         "showlegend": true,
         "mode": "lines",
         "name": "y7",
         "zmin": null,
         "legendgroup": "y7",
         "z": [
          0.8772693627569552,
          0.7834035623660809
         ],
         "zmax": null,
         "line": {
          "color": "rgba(117, 149, 0, 1.000)",
          "shape": "linear",
          "dash": "solid",
          "width": 1
         },
         "y": [
          0.0800492484391837,
          0.08202728726692299
         ],
         "type": "scatter3d",
         "scene": "scene"
        },
        {
         "xaxis": "x",
         "colorbar": {
          "title": ""
         },
         "yaxis": "y",
         "zaxis": "z",
         "x": [
          0.2998338572366228,
          0.4630087988800766
         ],
         "showlegend": true,
         "mode": "lines",
         "name": "y8",
         "zmin": null,
         "legendgroup": "y8",
         "z": [
          0.4138970052449622,
          0.20745185943557876
         ],
         "zmax": null,
         "line": {
          "color": "rgba(243, 82, 0, 1.000)",
          "shape": "linear",
          "dash": "solid",
          "width": 1
         },
         "y": [
          0.6344506158312067,
          0.5097374730831594
         ],
         "type": "scatter3d",
         "scene": "scene"
        }
       ]
      }
     },
     "metadata": {}
    }
   ],
   "source": [
    "fig = scatter(V̄..., leg=false)\n",
    "for i in 1:size(E, 1)\n",
    "    Ē = [getindex.(E[i, :], j) for j in 1:m]\n",
    "    plot!(fig, Ē...)\n",
    "end\n",
    "display(fig)"
   ]
  },
  {
   "cell_type": "code",
   "execution_count": null,
   "metadata": {},
   "outputs": [],
   "source": []
  },
  {
   "cell_type": "code",
   "execution_count": null,
   "metadata": {},
   "outputs": [],
   "source": []
  }
 ]
}