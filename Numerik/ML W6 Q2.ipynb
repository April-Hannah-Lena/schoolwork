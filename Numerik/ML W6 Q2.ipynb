{
 "cells": [
  {
   "cell_type": "code",
   "execution_count": 1,
   "metadata": {},
   "outputs": [],
   "source": [
    "import numpy as np \n",
    "spambase = np.loadtxt('spambase.data', delimiter=',')"
   ]
  },
  {
   "cell_type": "code",
   "execution_count": 2,
   "metadata": {},
   "outputs": [],
   "source": [
    "np.random.shuffle(spambase)\n",
    "y = spambase[:, -1].astype(int)\n",
    "X = np.zeros(np.array(spambase.shape) - np.array([0, 1]), dtype=int)\n",
    "X[spambase[:, :-1] > np.median(spambase[:, :-1], axis=0)[None, :]] = 1"
   ]
  },
  {
   "cell_type": "code",
   "execution_count": 3,
   "metadata": {},
   "outputs": [],
   "source": [
    "X_train, y_train = X[:2000, :], y[:2000]\n",
    "X_val, y_val = X[2000:, :], y[2000:]"
   ]
  },
  {
   "cell_type": "code",
   "execution_count": 4,
   "metadata": {},
   "outputs": [],
   "source": [
    "theta = np.array([\n",
    "    X_train[np.logical_not(y_train), :].sum(axis=0) / np.logical_not(y_train).sum(),   \n",
    "    # P[xi = 1 | y = 0] over i= 1,...,d\n",
    "    X_train[y_train.astype(bool), :].sum(axis=0) / y_train.sum()\n",
    "    # P[xi = 1 | y = 1] over i= 1,...,d\n",
    "]).T\n",
    "not_theta = 1 - theta                                         \n",
    "# P[xi = 0 | y = 0], P[xi = 0 | y = 1]"
   ]
  },
  {
   "cell_type": "code",
   "execution_count": 5,
   "metadata": {},
   "outputs": [],
   "source": [
    "eta = y_train.sum() / 2000  # P[y = 1]\n",
    "not_eta = 1 - eta           # P[y = 0]\n",
    "def y_hat(x):\n",
    "    P = np.array([\n",
    "        not_eta * theta[x.astype(bool), 0].prod() * not_theta[np.logical_not(x), 0].prod(),\n",
    "        eta * theta[x.astype(bool), 1].prod() * not_theta[np.logical_not(x), 1].prod()\n",
    "    ])  # P[y] * prod(P[xi | y]) over y = 0, 1\n",
    "    return P.argmax()"
   ]
  },
  {
   "cell_type": "code",
   "execution_count": 6,
   "metadata": {},
   "outputs": [
    {
     "output_type": "execute_result",
     "data": {
      "text/plain": [
       "0.1122645136485967"
      ]
     },
     "metadata": {},
     "execution_count": 6
    }
   ],
   "source": [
    "y_test = np.array([ y_hat(row) for row in X_val ])\n",
    "error = np.abs(y_val - y_test).mean()\n",
    "error"
   ]
  },
  {
   "cell_type": "code",
   "execution_count": 7,
   "metadata": {},
   "outputs": [
    {
     "output_type": "execute_result",
     "data": {
      "text/plain": [
       "0.405997693194925"
      ]
     },
     "metadata": {},
     "execution_count": 7
    }
   ],
   "source": [
    "y_naiv = int(y_train.mean() > 0.5)\n",
    "error_naiv = np.abs(y_val - y_naiv).mean()\n",
    "error_naiv"
   ]
  }
 ],
 "metadata": {
  "kernelspec": {
   "name": "python388jvsc74a57bd0aed11b59a6d24b307aec138dcbd86072676afa1d7eeadedf5a9c7f4d26e0dd03",
   "display_name": "Python 3.8.8 64-bit (conda)"
  },
  "language_info": {
   "codemirror_mode": {
    "name": "ipython",
    "version": 3
   },
   "file_extension": ".py",
   "mimetype": "text/x-python",
   "name": "python",
   "nbconvert_exporter": "python",
   "pygments_lexer": "ipython3",
   "version": "3.8.8"
  }
 },
 "nbformat": 4,
 "nbformat_minor": 2
}