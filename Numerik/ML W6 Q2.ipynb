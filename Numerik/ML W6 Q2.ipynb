{
 "cells": [
  {
   "cell_type": "code",
   "execution_count": 15,
   "metadata": {},
   "outputs": [],
   "source": [
    "import numpy as np \n",
    "spambase = np.loadtxt('spambase.data', delimiter=',')"
   ]
  },
  {
   "cell_type": "code",
   "execution_count": 16,
   "metadata": {},
   "outputs": [],
   "source": [
    "np.random.shuffle(spambase)\n",
    "y = spambase[:, -1].astype(int)\n",
    "X = np.zeros(np.array(spambase.shape) - np.array([0, 1]), dtype=int)\n",
    "X[spambase[:, :-1] > np.median(spambase[:, :-1], axis=0)[None, :]] = 1"
   ]
  },
  {
   "cell_type": "code",
   "execution_count": 17,
   "metadata": {},
   "outputs": [],
   "source": [
    "X_train, y_train = X[:2000, :], y[:2000]\n",
    "X_val, y_val = X[2000:, :], y[2000:]"
   ]
  },
  {
   "cell_type": "code",
   "execution_count": 18,
   "metadata": {},
   "outputs": [],
   "source": [
    "eta = y_train.sum() / 2000  # P[y=1]\n",
    "theta = np.array([\n",
    "    X_train[np.logical_not(y_train), :].sum(axis=0) / (eta*2000),   \n",
    "    # P[xi = 1 | y = 0] over i= 1,...,d\n",
    "    X_train[y_train.astype(bool), :].sum(axis=0) / (eta*2000)       \n",
    "    # P[xi = 1 | y = 1] over i= 1,...,d\n",
    "]).T\n",
    "one_minus_theta = 1 - theta                                         \n",
    "# P[xi = 0 | y = 0], P[xi = 0 | y = 1]"
   ]
  },
  {
   "cell_type": "code",
   "execution_count": 19,
   "metadata": {},
   "outputs": [],
   "source": [
    "def y_hat(x):\n",
    "    P = np.array([\n",
    "        eta * theta[x.astype(bool), y].prod() * one_minus_theta[np.logical_not(x), y].prod() for y in range(2)\n",
    "    ])  # P[y] * prod(P[xi | y]) over y = 0, 1\n",
    "    return P.argmax()"
   ]
  },
  {
   "cell_type": "code",
   "execution_count": 20,
   "metadata": {},
   "outputs": [
    {
     "data": {
      "text/plain": [
       "0.08419838523644751"
      ]
     },
     "execution_count": 20,
     "metadata": {},
     "output_type": "execute_result"
    }
   ],
   "source": [
    "y_test = np.array([\n",
    "    y_hat(X[-i-1, :]) for i in range(X.shape[0] - 2000) \n",
    "])[::-1]\n",
    "error = np.abs(y_val - y_test).mean()\n",
    "error"
   ]
  },
  {
   "cell_type": "code",
   "execution_count": 21,
   "metadata": {},
   "outputs": [
    {
     "data": {
      "text/plain": [
       "0.4002306805074971"
      ]
     },
     "execution_count": 21,
     "metadata": {},
     "output_type": "execute_result"
    }
   ],
   "source": [
    "y_naiv = int(y_train.mean() > 0.5)\n",
    "error_naiv = np.abs(y_val - y_naiv).mean()\n",
    "error_naiv"
   ]
  }
 ],
 "metadata": {
  "kernelspec": {
   "display_name": "Python 3",
   "language": "python",
   "name": "python3"
  },
  "language_info": {
   "codemirror_mode": {
    "name": "ipython",
    "version": 3
   },
   "file_extension": ".py",
   "mimetype": "text/x-python",
   "name": "python",
   "nbconvert_exporter": "python",
   "pygments_lexer": "ipython3",
   "version": "3.8.8"
  }
 },
 "nbformat": 4,
 "nbformat_minor": 2
}
